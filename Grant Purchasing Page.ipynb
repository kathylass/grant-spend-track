{
 "metadata": {
  "name": "Grant Purchasing Page"
 },
 "nbformat": 3,
 "nbformat_minor": 0,
 "worksheets": [
  {
   "cells": [
    {
     "cell_type": "heading",
     "level": 1,
     "metadata": {},
     "source": [
      "Grant Purchasing Page"
     ]
    },
    {
     "cell_type": "raw",
     "metadata": {},
     "source": [
      "Input: Item to purchase: what, how much, order date, payment date"
     ]
    },
    {
     "cell_type": "raw",
     "metadata": {},
     "source": [
      "Go look at grants, give visualization of available gran\n",
      "ts with spend ratios, \n",
      "prompt for what grant to use, maybe with default"
     ]
    },
    {
     "cell_type": "raw",
     "metadata": {},
     "source": [
      "Give updated feedback - planned spending vs actual\n",
      "nuanced view of what to spend\n",
      "maybe a different color of what is to be invoiced\n",
      "default for payment terms\n"
     ]
    }
   ],
   "metadata": {}
  }
 ]
}